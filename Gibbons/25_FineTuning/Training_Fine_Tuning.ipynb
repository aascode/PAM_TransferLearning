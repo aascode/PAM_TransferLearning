{
 "cells": [
  {
   "cell_type": "markdown",
   "metadata": {
    "id": "Pg-HOKKk0GCA"
   },
   "source": [
    "# Training example for Hainan gibbons (25 samples) while fine-tuning the feature extractor\n",
    "\n",
    "**Paper:** Passive Acoustic Monitoring and Transfer Learning\n",
    "\n",
    "**Authors:** Emmanuel Dufourq, Carly Batist, Ruben Foquet and Ian Durbach\n",
    "\n",
    "**Repository:** https://github.com/emmanueldufourq/PAM_TransferLearning\n",
    "\n",
    "<hr>\n",
    "\n",
    "**Note 1: Set colab=True if executing on Google Colab, or set colab=False if running locally.**\n",
    "\n",
    "**Note 2: When running on Google Colab, please select Runtime > Change runtime type > GPU**\n",
    "\n",
    "<hr>"
   ]
  },
  {
   "cell_type": "markdown",
   "metadata": {
    "id": "0pV-HZWUkBjv"
   },
   "source": [
    "## Step 0: Download data and code"
   ]
  },
  {
   "cell_type": "code",
   "execution_count": null,
   "metadata": {
    "executionInfo": {
     "elapsed": 11,
     "status": "ok",
     "timestamp": 1646473227435,
     "user": {
      "displayName": "Dr. Emmanuel Dufourq",
      "photoUrl": "https://lh3.googleusercontent.com/a/default-user=s64",
      "userId": "01909065842932597443"
     },
     "user_tz": -120
    },
    "id": "Do70uZrF_l3w"
   },
   "outputs": [],
   "source": [
    "colab = True"
   ]
  },
  {
   "cell_type": "code",
   "execution_count": null,
   "metadata": {
    "colab": {
     "base_uri": "https://localhost:8080/"
    },
    "executionInfo": {
     "elapsed": 113808,
     "status": "ok",
     "timestamp": 1646473341234,
     "user": {
      "displayName": "Dr. Emmanuel Dufourq",
      "photoUrl": "https://lh3.googleusercontent.com/a/default-user=s64",
      "userId": "01909065842932597443"
     },
     "user_tz": -120
    },
    "id": "FWcJJ738DhMx",
    "outputId": "1b058df9-1a30-45c7-956d-958a0dded616"
   },
   "outputs": [],
   "source": [
    "if colab:\n",
    "    !pip install SoundFile\n",
    "    from google.colab import drive\n",
    "    from pydrive.auth import GoogleAuth\n",
    "    from pydrive.drive import GoogleDrive\n",
    "    from google.colab import auth\n",
    "    from oauth2client.client import GoogleCredentials\n",
    "    import zipfile\n",
    "\n",
    "    # Google Authentication\n",
    "    auth.authenticate_user()\n",
    "    gauth = GoogleAuth()\n",
    "    gauth.credentials = GoogleCredentials.get_application_default()\n",
    "    drive = GoogleDrive(gauth)\n",
    "\n",
    "    # Download code files\n",
    "    downloaded = drive.CreateFile({'id':\"1pum7YzN_Aq5NgqksiDSs1fa-20vLxgko\"})\n",
    "    downloaded.GetContentFile('Code.zip')\n",
    "\n",
    "    # Extract files to temporary location in Google Drive\n",
    "    with zipfile.ZipFile('Code.zip', 'r') as zip_file:\n",
    "        zip_file.extractall()\n",
    "\n",
    "    # Download data files\n",
    "    downloaded = drive.CreateFile({'id':\"1ikTmmCos2by8VEmfrAxvEoqRAoE_9JcK\"})\n",
    "    downloaded.GetContentFile('Data.zip')\n",
    "\n",
    "    # Extract files to temporary location in Google Drive\n",
    "    with zipfile.ZipFile('Data.zip', 'r') as zip_file:\n",
    "        zip_file.extractall()"
   ]
  },
  {
   "cell_type": "code",
   "execution_count": null,
   "metadata": {
    "executionInfo": {
     "elapsed": 8667,
     "status": "ok",
     "timestamp": 1646473349861,
     "user": {
      "displayName": "Dr. Emmanuel Dufourq",
      "photoUrl": "https://lh3.googleusercontent.com/a/default-user=s64",
      "userId": "01909065842932597443"
     },
     "user_tz": -120
    },
    "id": "R1OyZ2AoDhRE"
   },
   "outputs": [],
   "source": [
    "from Preprocessing import *\n",
    "from TrainHelper import *"
   ]
  },
  {
   "cell_type": "markdown",
   "metadata": {
    "id": "JPvrr__qEHyN"
   },
   "source": [
    "## Step 1: Pre-process the data"
   ]
  },
  {
   "cell_type": "code",
   "execution_count": null,
   "metadata": {
    "executionInfo": {
     "elapsed": 12,
     "status": "ok",
     "timestamp": 1646473349862,
     "user": {
      "displayName": "Dr. Emmanuel Dufourq",
      "photoUrl": "https://lh3.googleusercontent.com/a/default-user=s64",
      "userId": "01909065842932597443"
     },
     "user_tz": -120
    },
    "id": "jVgTsO3EDhTm"
   },
   "outputs": [],
   "source": [
    "species_folder = 'Data' # Should contain /Audio and /Annotations\n",
    "lowpass_cutoff = 2000 # Cutt off for low pass filter\n",
    "downsample_rate = 4800 # Frequency to downsample to\n",
    "nyquist_rate = 2400 # Nyquist rate (half of sampling rate)\n",
    "segment_duration = 4 # how long should a segment be\n",
    "augmentation_amount_positive_class = 1 # how many times should a segment be augmented\n",
    "augmentation_amount_negative_class = 1 # how many times should a segment be augmented\n",
    "positive_class = ['gibbon'] # which labels should be bundled together for the positive  class\n",
    "negative_class = ['no-gibbon'] # which labels should be bundled together for the negative  class\n",
    "file_type = 'svl'\n",
    "audio_extension = '.wav'\n",
    "n_fft = 1024 # Hann window length\n",
    "hop_length = 256 # Sepctrogram hop size\n",
    "n_mels = 128 # Spectrogram number of mells\n",
    "f_min = 4000 # Spectrogram, minimum frequency for call\n",
    "f_max = 9000 # Spectrogram, maximum frequency for call"
   ]
  },
  {
   "cell_type": "code",
   "execution_count": null,
   "metadata": {
    "colab": {
     "base_uri": "https://localhost:8080/"
    },
    "executionInfo": {
     "elapsed": 68341,
     "status": "ok",
     "timestamp": 1646473418192,
     "user": {
      "displayName": "Dr. Emmanuel Dufourq",
      "photoUrl": "https://lh3.googleusercontent.com/a/default-user=s64",
      "userId": "01909065842932597443"
     },
     "user_tz": -120
    },
    "id": "r3HO-JUNA7Kw",
    "outputId": "c0a43c15-e0b6-4073-d7dc-b1536f452b5d"
   },
   "outputs": [],
   "source": [
    "pre_pro = Preprocessing(species_folder, lowpass_cutoff, \n",
    "                downsample_rate, nyquist_rate, \n",
    "                segment_duration,\n",
    "                positive_class, negative_class, \n",
    "                augmentation_amount_positive_class, \n",
    "                augmentation_amount_negative_class,n_fft, \n",
    "                hop_length, n_mels, f_min, f_max, file_type, \n",
    "                audio_extension)\n",
    "\n",
    "X_calls, Y_calls = pre_pro.create_dataset(False)\n",
    "\n",
    "pre_pro.save_data_to_pickle(X_calls, Y_calls)\n",
    "\n",
    "print ('done')"
   ]
  },
  {
   "cell_type": "markdown",
   "metadata": {
    "id": "UduB6bNvi6yJ"
   },
   "source": [
    "## Step 2: Determine augmentation required\n",
    "\n",
    "Look how many precense and absence examples are in the training data"
   ]
  },
  {
   "cell_type": "code",
   "execution_count": null,
   "metadata": {
    "colab": {
     "base_uri": "https://localhost:8080/"
    },
    "executionInfo": {
     "elapsed": 18,
     "status": "ok",
     "timestamp": 1646473418193,
     "user": {
      "displayName": "Dr. Emmanuel Dufourq",
      "photoUrl": "https://lh3.googleusercontent.com/a/default-user=s64",
      "userId": "01909065842932597443"
     },
     "user_tz": -120
    },
    "id": "zlEs7KL3i0j0",
    "outputId": "04a4d476-04a4-4941-f843-86667047c0cb"
   },
   "outputs": [],
   "source": [
    "unique, counts = np.unique(Y_calls, return_counts=True)\n",
    "original_distribution = dict(zip(unique, counts))\n",
    "print('Data distribution:',original_distribution)"
   ]
  },
  {
   "cell_type": "markdown",
   "metadata": {
    "id": "fg__ita8cR0k"
   },
   "source": [
    "## Step 3: Set the augmentation amount\n",
    "\n",
    "For this experiment, take the number of absence events and divide by the sample size. In this case 25. So 25 samples will be randomly selected and then augmented a number of times (```augmentation_amount```)"
   ]
  },
  {
   "cell_type": "code",
   "execution_count": null,
   "metadata": {
    "executionInfo": {
     "elapsed": 9,
     "status": "ok",
     "timestamp": 1646473418194,
     "user": {
      "displayName": "Dr. Emmanuel Dufourq",
      "photoUrl": "https://lh3.googleusercontent.com/a/default-user=s64",
      "userId": "01909065842932597443"
     },
     "user_tz": -120
    },
    "id": "-nM_JNJbjBb4"
   },
   "outputs": [],
   "source": [
    "augmentation_amount = int(130/25)"
   ]
  },
  {
   "cell_type": "markdown",
   "metadata": {
    "id": "vs2zn2oRjCbC"
   },
   "source": [
    "## Step 4: Training"
   ]
  },
  {
   "cell_type": "code",
   "execution_count": null,
   "metadata": {
    "colab": {
     "base_uri": "https://localhost:8080/"
    },
    "executionInfo": {
     "elapsed": 179962,
     "status": "ok",
     "timestamp": 1646473598148,
     "user": {
      "displayName": "Dr. Emmanuel Dufourq",
      "photoUrl": "https://lh3.googleusercontent.com/a/default-user=s64",
      "userId": "01909065842932597443"
     },
     "user_tz": -120
    },
    "id": "ZeyEG5NFb89y",
    "outputId": "3b31deab-da63-41d0-f94a-4ab56d28aa03"
   },
   "outputs": [],
   "source": [
    "sample_size = 25\n",
    "INPUT_SHAPE = (128,76, 3)\n",
    "EPOCHS = 3\n",
    "save_results_folder = 'Data/Model_Output'\n",
    "initialise_distribution = {'no-gibbon':0, 'gibbon':0}\n",
    "number_classes = 2\n",
    "call_order = ['no-gibbon','gibbon'] #First element will be labelled as 0 and next as 1 etc...\n",
    "seed = 2564512\n",
    "\n",
    "model_resnet152v2 = train_model('ResNet152V2', species_folder, augmentation_amount, \n",
    "                                seed, call_order, INPUT_SHAPE, sample_size,save_results_folder, EPOCHS)"
   ]
  },
  {
   "cell_type": "markdown",
   "metadata": {
    "id": "d0WERj06TZHc"
   },
   "source": [
    "### The model file can be around in /Data/Model_Output/ and place this .hdf5 into the root folder where the code is located (e.g. same location in ```Predicting_No_Fine_Tuning.ipynb```)."
   ]
  },
  {
   "cell_type": "code",
   "execution_count": null,
   "metadata": {
    "id": "sP3dOq8JzxBb"
   },
   "outputs": [],
   "source": []
  }
 ],
 "metadata": {
  "accelerator": "GPU",
  "colab": {
   "authorship_tag": "ABX9TyOJihJOcgHAWNwQURcqEUeR",
   "collapsed_sections": [],
   "name": "Training_Fine_Tuning.ipynb",
   "provenance": []
  },
  "kernelspec": {
   "display_name": "Python 3 (ipykernel)",
   "language": "python",
   "name": "python3"
  },
  "language_info": {
   "codemirror_mode": {
    "name": "ipython",
    "version": 3
   },
   "file_extension": ".py",
   "mimetype": "text/x-python",
   "name": "python",
   "nbconvert_exporter": "python",
   "pygments_lexer": "ipython3",
   "version": "3.8.12"
  }
 },
 "nbformat": 4,
 "nbformat_minor": 1
}
